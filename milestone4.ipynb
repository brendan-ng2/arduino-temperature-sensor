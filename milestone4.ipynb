{
 "cells": [
  {
   "cell_type": "code",
   "execution_count": 1,
   "metadata": {},
   "outputs": [],
   "source": [
    "from pyfirmata import Arduino, util\n",
    "import time\n",
    "from matplotlib.pyplot import *"
   ]
  },
  {
   "cell_type": "code",
   "execution_count": 2,
   "metadata": {},
   "outputs": [],
   "source": [
    "board = Arduino('/dev/cu.usbserial-14310')"
   ]
  },
  {
   "cell_type": "code",
   "execution_count": 3,
   "metadata": {},
   "outputs": [],
   "source": [
    "it = util.Iterator(board)\n",
    "it.start()"
   ]
  },
  {
   "cell_type": "code",
   "execution_count": 4,
   "metadata": {},
   "outputs": [],
   "source": [
    "analog_0 = board.get_pin('a:0:i')\n",
    "analog_1 = board.get_pin('a:1:i')"
   ]
  },
  {
   "cell_type": "code",
   "execution_count": 5,
   "metadata": {},
   "outputs": [],
   "source": [
    "def writeFile(name, listName1, listName2): \n",
    "    with open(name, 'w') as f:\n",
    "        \n",
    "        for x,y in zip(listName1,listName2): \n",
    "            stringIn=\"{} {}\\n\".format(x,y)\n",
    "            f.write(stringIn)"
   ]
  },
  {
   "cell_type": "code",
   "execution_count": 7,
   "metadata": {},
   "outputs": [],
   "source": [
    "Rk = 1000\n",
    "alpha = 0.00392\n",
    "T0 = 0\n",
    "T = []\n",
    "t = []\n",
    "\n",
    "for i in range(120):\n",
    "    v = analog_0.read()*5\n",
    "    vb = analog_1.read()*5\n",
    "    I = (v)/Rk\n",
    "    Ru = (vb - v)/I\n",
    "    temp = (Ru/Rk - 1)/alpha + T0\n",
    "    T.append(round(temp, 2))\n",
    "    t.append(i)\n",
    "    time.sleep(60)\n",
    "\n",
    "writeFile(\"testfile.txt\", T, t)"
   ]
  },
  {
   "cell_type": "code",
   "execution_count": 18,
   "metadata": {},
   "outputs": [
    {
     "name": "stdout",
     "output_type": "stream",
     "text": [
      "21.696386195674382\n"
     ]
    }
   ],
   "source": [
    "v = analog_0.read()*5\n",
    "vb = analog_1.read()*5\n",
    "I = (v)/Rk\n",
    "Ru = (vb - v)/I\n",
    "temp = (Ru/Rk - 1)/alpha + T0\n",
    "print(temp)"
   ]
  },
  {
   "cell_type": "code",
   "execution_count": null,
   "metadata": {},
   "outputs": [],
   "source": []
  },
  {
   "cell_type": "code",
   "execution_count": null,
   "metadata": {},
   "outputs": [],
   "source": []
  }
 ],
 "metadata": {
  "kernelspec": {
   "display_name": "Python 3",
   "language": "python",
   "name": "python3"
  },
  "language_info": {
   "codemirror_mode": {
    "name": "ipython",
    "version": 3
   },
   "file_extension": ".py",
   "mimetype": "text/x-python",
   "name": "python",
   "nbconvert_exporter": "python",
   "pygments_lexer": "ipython3",
   "version": "3.8.3"
  }
 },
 "nbformat": 4,
 "nbformat_minor": 4
}
